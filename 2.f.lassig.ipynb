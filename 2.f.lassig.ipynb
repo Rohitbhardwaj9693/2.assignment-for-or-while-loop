{
 "cells": [
  {
   "cell_type": "code",
   "execution_count": 1,
   "id": "c3256774-c588-49aa-99a5-ae7c803520ec",
   "metadata": {},
   "outputs": [],
   "source": [
    "                                             ## Name Rohit bhardwaj\n",
    "                                            ##  Batch data science master\n",
    "                                            ## Assignment no 2  related for or while loop \n",
    "            \n",
    "            \n",
    "            \n",
    "#question no  1\n",
    " \n",
    "# in python the for loop is used to run a block \n",
    "# of code for a certen number of time .it is used \n",
    "# to itrate over any sequence such as list ,tuple\n",
    "# dtring etc.\n",
    "# where while loop we can execute a set of \n",
    "#statement as long as contition is true"
   ]
  },
  {
   "cell_type": "code",
   "execution_count": 2,
   "id": "69d000d8-16a8-43de-9529-fb1501900820",
   "metadata": {},
   "outputs": [
    {
     "name": "stdout",
     "output_type": "stream",
     "text": [
      "0\n",
      "2\n",
      "4\n",
      "6\n",
      "8\n"
     ]
    }
   ],
   "source": [
    " l=10\n",
    "for i in range(l):\n",
    "    if i%2==0:\n",
    "        print(i)"
   ]
  },
  {
   "cell_type": "code",
   "execution_count": 7,
   "id": "53f74fc5-9233-465f-8bc7-d69e1bc7bbb8",
   "metadata": {},
   "outputs": [
    {
     "name": "stdin",
     "output_type": "stream",
     "text": [
      "enter a number 5\n"
     ]
    },
    {
     "name": "stdout",
     "output_type": "stream",
     "text": [
      "5 * 1 = 5\n",
      "5 * 2 = 10\n",
      "5 * 3 = 15\n",
      "5 * 4 = 20\n",
      "5 * 5 = 25\n",
      "5 * 6 = 30\n",
      "5 * 7 = 35\n",
      "5 * 8 = 40\n",
      "5 * 9 = 45\n",
      "5 * 10 = 50\n"
     ]
    }
   ],
   "source": [
    "n=int(input('enter a number'))\n",
    "start=1\n",
    "table=1\n",
    "while start<=10:\n",
    "    table = start* n\n",
    "    print(n,\"*\",start,'=',table)\n",
    "    start=start+1"
   ]
  },
  {
   "cell_type": "code",
   "execution_count": 8,
   "id": "9bdfdb37-a67c-498d-885f-db4842bd5527",
   "metadata": {},
   "outputs": [
    {
     "data": {
      "text/plain": [
       "55"
      ]
     },
     "execution_count": 8,
     "metadata": {},
     "output_type": "execute_result"
    }
   ],
   "source": [
    "# Question no 2\n",
    "\n",
    "\n",
    "i=1\n",
    "sum=0\n",
    "while i<=10:\n",
    "    sum=sum+i\n",
    "    i=i+1\n",
    "sum    "
   ]
  },
  {
   "cell_type": "code",
   "execution_count": 10,
   "id": "66105015-17dc-4427-b86c-714e1517a369",
   "metadata": {},
   "outputs": [
    {
     "data": {
      "text/plain": [
       "24"
      ]
     },
     "execution_count": 10,
     "metadata": {},
     "output_type": "execute_result"
    }
   ],
   "source": [
    "# question no 2\n",
    "\n",
    "\n",
    "i=1\n",
    "multiply =1\n",
    "while i<=4:\n",
    "    multiply=multiply * i\n",
    "    i=i+1\n",
    "multiply    "
   ]
  },
  {
   "cell_type": "code",
   "execution_count": 14,
   "id": "53e33301-a609-4eb0-b1d3-08921cc51c8f",
   "metadata": {},
   "outputs": [],
   "source": [
    "i=1"
   ]
  },
  {
   "cell_type": "code",
   "execution_count": null,
   "id": "f5a42556-c6bd-41b6-9b67-fae457b4941b",
   "metadata": {},
   "outputs": [],
   "source": []
  },
  {
   "cell_type": "code",
   "execution_count": 33,
   "id": "fd40b621-5bab-42b1-a675-b562db99c9e2",
   "metadata": {},
   "outputs": [
    {
     "data": {
      "text/plain": [
       "55"
      ]
     },
     "execution_count": 33,
     "metadata": {},
     "output_type": "execute_result"
    }
   ],
   "source": [
    "i=1\n",
    "sum=0\n",
    "for i in range(10+1):\n",
    "    sum = sum +i\n",
    "    \n",
    "sum "
   ]
  },
  {
   "cell_type": "code",
   "execution_count": null,
   "id": "d156cf9b-ea3b-4bda-8e2e-1b14c90c6c1e",
   "metadata": {},
   "outputs": [],
   "source": []
  },
  {
   "cell_type": "code",
   "execution_count": 3,
   "id": "a099e1f0-aab5-41da-9580-12a87ee07141",
   "metadata": {},
   "outputs": [
    {
     "name": "stdout",
     "output_type": "stream",
     "text": [
      "100\n"
     ]
    }
   ],
   "source": [
    "l=10\n",
    "for i in range(1,l+1):\n",
    "    multiply = i*l\n",
    "print(multiply)    "
   ]
  },
  {
   "cell_type": "code",
   "execution_count": 7,
   "id": "6b7bbef2-d6cb-4e6d-bd50-c34a09aa4ccd",
   "metadata": {},
   "outputs": [
    {
     "name": "stdin",
     "output_type": "stream",
     "text": [
      "enter your electric unit 310\n"
     ]
    },
    {
     "name": "stdout",
     "output_type": "stream",
     "text": [
      "2250.0\n"
     ]
    }
   ],
   "source": [
    "# calculate electricty bill question no 3\n",
    "\n",
    "\n",
    "unit = int(input(\"enter your electric unit\"))\n",
    "\n",
    "if unit <=100:\n",
    "    bill1 = unit* 4.5\n",
    "    print(bill1)\n",
    "\n",
    "elif unit <=200:\n",
    "    bill2 = (100*4.5) + (unit - 100)* 6\n",
    "    print(bill2)\n",
    "\n",
    "elif unit <= 300:\n",
    "    bill3 = (100 * 4.5) + (100 * 6) + (unit - 200)* 10\n",
    "    print(bill3)\n",
    "    \n",
    "elif unit >300:\n",
    "    bill4 = (100 * 4.5)+(100 * 6)+ (100 * 10)+ (unit - 300)*20\n",
    "    print(bill4)\n",
    "    "
   ]
  },
  {
   "cell_type": "code",
   "execution_count": null,
   "id": "3f8dea67-2e4b-4c07-a791-74117d0d5dd7",
   "metadata": {},
   "outputs": [],
   "source": []
  },
  {
   "cell_type": "code",
   "execution_count": 13,
   "id": "ad655c8f-1afc-4535-832a-6f6b006763be",
   "metadata": {},
   "outputs": [
    {
     "name": "stdout",
     "output_type": "stream",
     "text": [
      "12\n"
     ]
    }
   ],
   "source": [
    "# Qusetion no 4\n",
    "\n",
    "\n",
    "\n",
    "s = \"i want to become a data scientist\"\n",
    "vovle = 0 \n",
    "for i in range(0,len(s)):\n",
    "    if s[i] == 'a' or s[i] == 'e' or s[i] == 'i' or s[i] == 'o' or s[i] == 'u':\n",
    "        vovle = vovle+1\n",
    "print(vovle)        "
   ]
  },
  {
   "cell_type": "code",
   "execution_count": 18,
   "id": "8e638954-8e71-49a6-a35a-12feab92e312",
   "metadata": {},
   "outputs": [
    {
     "name": "stdout",
     "output_type": "stream",
     "text": [
      "4\n",
      "5\n",
      "8\n",
      "10\n",
      "12\n",
      "15\n",
      "16\n",
      "20\n",
      "24\n",
      "25\n",
      "28\n",
      "30\n",
      "32\n",
      "35\n",
      "36\n",
      "40\n",
      "44\n",
      "45\n",
      "48\n",
      "50\n",
      "52\n",
      "55\n",
      "56\n",
      "60\n",
      "64\n",
      "65\n",
      "68\n",
      "70\n",
      "72\n",
      "75\n",
      "76\n",
      "80\n",
      "84\n",
      "85\n",
      "88\n",
      "90\n",
      "92\n",
      "95\n",
      "96\n",
      "100\n"
     ]
    }
   ],
   "source": [
    "# Question no 5\n",
    "\n",
    "\n",
    "\n",
    "l=[]\n",
    "for i in range(1,101):\n",
    "    l.append(i*i*i)\n",
    "    if i%4==0 or i%5==0:\n",
    "        print(i)"
   ]
  },
  {
   "cell_type": "code",
   "execution_count": null,
   "id": "d68ffda6-3951-4eb6-ba70-c403e0f00ef0",
   "metadata": {},
   "outputs": [],
   "source": []
  }
 ],
 "metadata": {
  "kernelspec": {
   "display_name": "Python 3 (ipykernel)",
   "language": "python",
   "name": "python3"
  },
  "language_info": {
   "codemirror_mode": {
    "name": "ipython",
    "version": 3
   },
   "file_extension": ".py",
   "mimetype": "text/x-python",
   "name": "python",
   "nbconvert_exporter": "python",
   "pygments_lexer": "ipython3",
   "version": "3.10.8"
  }
 },
 "nbformat": 4,
 "nbformat_minor": 5
}
